{
 "cells": [
  {
   "cell_type": "code",
   "execution_count": 2,
   "metadata": {},
   "outputs": [
    {
     "name": "stdout",
     "output_type": "stream",
     "text": [
      "From stephen.marquard@uct.ac.za Sat Jan  5 09:14:16 2008\r\n",
      "Return-Path: <postmaster@collab.sakaiproject.org>\r\n",
      "Received: from murder (mail.umich.edu [141.211.14.90])\r\n",
      "\t by frankenstein.mail.umich.edu (Cyrus v2.3.8) with LMTPA;\r\n",
      "\t Sat, 05 Jan 2008 09:14:16 -0500\r\n",
      "X-Sieve: CMU Sieve 2.3\r\n",
      "Received: from murder ([unix socket])\r\n",
      "\t by mail.umich.edu (Cyrus v2.2.12) with LMTPA;\r\n",
      "\t Sat, 05 Jan 2008 09:14:16 -0500\r\n",
      "Received: from holes.mr.itd.umich.edu (holes.mr.itd.umich.edu [141.211.14.79])\r\n",
      "\tby flawless.mail.umich.edu () with ESMTP id m05EEFR1013674;\r\n",
      "\tSat, 5 Jan 2008 09:14:15 -0500\r\n",
      "Received: FROM paploo.uhi.ac.uk (app1.prod.collab.uhi.ac.uk [194.35.219.184])\r\n",
      "\tBY holes.mr.itd.umich.edu ID 477F90B0.2DB2F.12494 ; \r\n",
      "\t 5 Jan 2008 09:14:10 -0500\r\n"
     ]
    }
   ],
   "source": [
    "!head -n 15 /cxldata/datasets/project/mbox-short.txt"
   ]
  },
  {
   "cell_type": "code",
   "execution_count": 3,
   "metadata": {},
   "outputs": [],
   "source": [
    "fhand = open('/cxldata/datasets/project/mbox-short.txt')"
   ]
  },
  {
   "cell_type": "code",
   "execution_count": 4,
   "metadata": {},
   "outputs": [],
   "source": [
    "inp = fhand.read()"
   ]
  },
  {
   "cell_type": "code",
   "execution_count": 5,
   "metadata": {},
   "outputs": [],
   "source": [
    "fhand.close()"
   ]
  },
  {
   "cell_type": "code",
   "execution_count": 45,
   "metadata": {},
   "outputs": [],
   "source": [
    "# Count the number of lines\n",
    "def number_of_lines():\n",
    "    fhand = open('/cxldata/datasets/project/mbox-short.txt')\n",
    "    inp = fhand.read()\n",
    "    fhand.close()\n",
    "    count = 0\n",
    "    for c in inp:\n",
    "        if c == '\\n':\n",
    "            count += 1\n",
    "    return count"
   ]
  },
  {
   "cell_type": "code",
   "execution_count": 31,
   "metadata": {},
   "outputs": [
    {
     "data": {
      "text/plain": [
       "27"
      ]
     },
     "execution_count": 31,
     "metadata": {},
     "output_type": "execute_result"
    }
   ],
   "source": [
    "# Count the number of Subject lines\n",
    "def count_number_of_lines():\n",
    "    with open('/cxldata/datasets/project/mbox-short.txt') as f:\n",
    "        count = 0\n",
    "        for line in f:\n",
    "            line = line.rstrip()\n",
    "            if line.startswith('Subject:'):\n",
    "                count = count + 1\n",
    "    return count\n",
    "count_number_of_lines()"
   ]
  },
  {
   "cell_type": "code",
   "execution_count": 41,
   "metadata": {},
   "outputs": [],
   "source": [
    "# Find Average spam Confidence\n",
    "def average_spam_confidence():\n",
    "    with open('/cxldata/datasets/project/mbox-short.txt') as f:\n",
    "        count = 0\n",
    "        spam_confidence_sum = 0\n",
    "        for line in f:\n",
    "            line = line.rstrip() # Remove new line characters from right\n",
    "            if line.startswith('X-DSPAM-Confidence:'):\n",
    "                var, value = line.split(':')\n",
    "                spam_confidence_sum = spam_confidence_sum + float(value)\n",
    "                count = count + 1\n",
    "    return spam_confidence_sum/count"
   ]
  },
  {
   "cell_type": "code",
   "execution_count": 63,
   "metadata": {},
   "outputs": [],
   "source": [
    "# Find which day of the week the email was sent\n",
    "def find_email_sent_days():\n",
    "    with open('/cxldata/datasets/project/mbox-short.txt') as f:\n",
    "        content = f.readlines()\n",
    "        day_dict ={}\n",
    "        day_of_week=[]\n",
    "        for line in content:\n",
    "            line = line.rstrip()\n",
    "            if line.startswith(\"From \"):\n",
    "                day_of_week=line.split(\" \")[2].strip()\n",
    "                day_dict[day_of_week] = day_dict.get(day_of_week, 0)+1\n",
    "    return day_dict"
   ]
  },
  {
   "cell_type": "code",
   "execution_count": 68,
   "metadata": {},
   "outputs": [],
   "source": [
    "#Count no of messages from each email address\n",
    "def count_message_from_email():\n",
    "    with open('/cxldata/datasets/project/mbox-short.txt') as f:\n",
    "        content = f.readlines()\n",
    "        d={}\n",
    "        s=''\n",
    "        for line in content:\n",
    "            line = line.rstrip()\n",
    "            if line.startswith(\"From \") and '@' in line:\n",
    "                sp=line.split()\n",
    "                email=sp[1]\n",
    "                d[email] = d.get(email, 0)+1\n",
    "    return d"
   ]
  },
  {
   "cell_type": "code",
   "execution_count": 74,
   "metadata": {},
   "outputs": [],
   "source": [
    "#Count the No of Messages from each domain\n",
    "def count_message_from_domain():\n",
    "    with open('/cxldata/datasets/project/mbox-short.txt') as f:\n",
    "        content = f.readlines()\n",
    "        linelist=[]\n",
    "        domaindict={}\n",
    "        for line in content:\n",
    "            line = line.rstrip()\n",
    "            if line.startswith(\"From:\"):\n",
    "                linelist=line.split()\n",
    "                email=linelist[1]\n",
    "                domain = email.split('@')[1]\n",
    "                if domain not in domaindict:\n",
    "                    domaindict[domain] = 1\n",
    "                else:\n",
    "                    domaindict[domain] += 1\n",
    "        return domaindict"
   ]
  }
 ],
 "metadata": {
  "kernelspec": {
   "display_name": "Python 3",
   "language": "python",
   "name": "python3"
  },
  "language_info": {
   "codemirror_mode": {
    "name": "ipython",
    "version": 3
   },
   "file_extension": ".py",
   "mimetype": "text/x-python",
   "name": "python",
   "nbconvert_exporter": "python",
   "pygments_lexer": "ipython3",
   "version": "3.6.8"
  },
  "toc": {
   "base_numbering": 1,
   "nav_menu": {},
   "number_sections": true,
   "sideBar": true,
   "skip_h1_title": false,
   "title_cell": "Table of Contents",
   "title_sidebar": "Contents",
   "toc_cell": false,
   "toc_position": {},
   "toc_section_display": true,
   "toc_window_display": false
  }
 },
 "nbformat": 4,
 "nbformat_minor": 2
}
